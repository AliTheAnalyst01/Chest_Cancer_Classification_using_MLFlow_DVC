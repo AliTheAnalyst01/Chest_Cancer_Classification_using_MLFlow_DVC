{
 "cells": [
  {
   "cell_type": "markdown",
   "id": "7a7eeac3",
   "metadata": {},
   "source": [
    "# firstly try to import the data from the google drive"
   ]
  },
  {
   "cell_type": "code",
   "execution_count": 6,
   "id": "dbafe832",
   "metadata": {},
   "outputs": [],
   "source": [
    "import gdown\n",
    "import os\n",
    "url = \"https://drive.google.com/file/d/1pGc-tBDApP0V8hodDc-_XpbFDdxngGh8/view?usp=sharing\"\n",
    "\n",
    "folder_id=url.split('/')[-2] # get the folder id from the url"
   ]
  },
  {
   "cell_type": "code",
   "execution_count": 7,
   "id": "77074fac",
   "metadata": {},
   "outputs": [
    {
     "data": {
      "text/plain": [
       "'1pGc-tBDApP0V8hodDc-_XpbFDdxngGh8'"
      ]
     },
     "execution_count": 7,
     "metadata": {},
     "output_type": "execute_result"
    }
   ],
   "source": [
    "folder_id"
   ]
  },
  {
   "cell_type": "code",
   "execution_count": 11,
   "id": "8a096845",
   "metadata": {},
   "outputs": [
    {
     "name": "stderr",
     "output_type": "stream",
     "text": [
      "d:\\Chest_Cancer_Classification_using_MLFlow_DVC\\.venv\\lib\\site-packages\\gdown\\parse_url.py:48: UserWarning: You specified a Google Drive link that is not the correct link to download a file. You might want to try `--fuzzy` option or the following url: https://drive.google.com/uc?id=None\n",
      "  warnings.warn(\n",
      "Downloading...\n",
      "From: https://drive.google.com/drive/search?q=1pGc-tBDApP0V8hodDc-_XpbFDdxngGh8\n",
      "To: d:\\Chest_Cancer_Classification_using_MLFlow_DVC\\research\\data.zip\n",
      "1.08MB [00:00, 1.30MB/s]\n"
     ]
    },
    {
     "data": {
      "text/plain": [
       "'data.zip'"
      ]
     },
     "execution_count": 11,
     "metadata": {},
     "output_type": "execute_result"
    }
   ],
   "source": [
    "prefix = \"https://drive.google.com/drive/search?q=\"\n",
    "gdown.download(prefix+folder_id, \"data.zip\")"
   ]
  },
  {
   "cell_type": "code",
   "execution_count": null,
   "id": "69dec3a9",
   "metadata": {},
   "outputs": [],
   "source": []
  }
 ],
 "metadata": {
  "kernelspec": {
   "display_name": ".venv",
   "language": "python",
   "name": "python3"
  },
  "language_info": {
   "codemirror_mode": {
    "name": "ipython",
    "version": 3
   },
   "file_extension": ".py",
   "mimetype": "text/x-python",
   "name": "python",
   "nbconvert_exporter": "python",
   "pygments_lexer": "ipython3",
   "version": "3.10.10"
  }
 },
 "nbformat": 4,
 "nbformat_minor": 5
}
